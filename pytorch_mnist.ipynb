{
  "cells": [
    {
      "cell_type": "markdown",
      "metadata": {
        "id": "view-in-github",
        "colab_type": "text"
      },
      "source": [
        "<a href=\"https://colab.research.google.com/github/uurspecial/simpson/blob/main/pytorch_mnist.ipynb\" target=\"_parent\"><img src=\"https://colab.research.google.com/assets/colab-badge.svg\" alt=\"Open In Colab\"/></a>"
      ]
    },
    {
      "cell_type": "markdown",
      "metadata": {
        "id": "tecBWNELRYYj"
      },
      "source": [
        "# The complete training and evaluation process with PyTorch\n",
        "\n",
        "## 學習目標\n",
        "- 我們已經學過 Gradient Descent, Backpropagation, 以及更進階的梯度下降最佳化方法 (如 SGD, Adam 等)\n",
        "- 因此我們接下來要實作一個完整的神經網路訓練流程，同時也將介紹評估流程"
      ]
    },
    {
      "cell_type": "markdown",
      "metadata": {
        "id": "9bVK2wRBSVPm"
      },
      "source": [
        "## 測試現在這個 Colab 環境是否已經使用 GPU\n",
        "- 否則等下可能會需要重新啟動 Colab 環境"
      ]
    },
    {
      "cell_type": "code",
      "execution_count": null,
      "metadata": {
        "colab": {
          "base_uri": "https://localhost:8080/"
        },
        "id": "G4pZ2YqXRT_B",
        "outputId": "447091c6-4c86-4ec5-eaee-788368b3e1f8"
      },
      "outputs": [
        {
          "data": {
            "text/plain": [
              "True"
            ]
          },
          "execution_count": 1,
          "metadata": {},
          "output_type": "execute_result"
        }
      ],
      "source": [
        "import torch\n",
        "torch.cuda.is_available() # 結果需要顯示為 True"
      ]
    },
    {
      "cell_type": "markdown",
      "metadata": {
        "id": "gEFJ2Wb7S5cw"
      },
      "source": [
        "## PyTorch 常用套件\n",
        "\n",
        "| 套件名稱 | 主要內容 |\n",
        "|-|-|\n",
        "|[`torch.nn as nn`](https://pytorch.org/docs/stable/nn.html) | 與模型架構相關的函數，包含各種層與目標函數的實作 |\n",
        "|[`torch.optim`](https://pytorch.org/docs/stable/optim.html) | 與模型最佳化有相關的函數 (optim: optimization) |\n",
        "|[`torchvision`](https://pytorch.org/vision/stable/index.html) | 與電腦視覺 (影像) 任務有相關的函數 |\n",
        "|[`torchvision.transforms`](https://pytorch.org/vision/0.9/transforms.html) | 幫助進行影像資料前處理的函數 |"
      ]
    },
    {
      "cell_type": "code",
      "execution_count": null,
      "metadata": {
        "id": "VLATNhzVRaLa"
      },
      "outputs": [],
      "source": [
        "# 引入本教學所需要的套件\n",
        "\n",
        "import torch.nn as nn\n",
        "import torch.optim as optim\n",
        "import torchvision\n",
        "import torchvision.transforms as transforms\n",
        "from matplotlib import pyplot as plt\n",
        "from sklearn.model_selection import train_test_split\n",
        "from sklearn.metrics import accuracy_score"
      ]
    },
    {
      "cell_type": "markdown",
      "metadata": {
        "id": "hK3x64YMHNFj"
      },
      "source": [
        "## 載入資料\n",
        "- 本教學使用的是 MNIST 手寫字辨識資料集 (by [Yann LeCun](http://yann.lecun.com/exdb/mnist/))\n",
        "\n",
        "![MNIST](https://upload.wikimedia.org/wikipedia/commons/b/b1/MNIST_dataset_example.png)"
      ]
    },
    {
      "cell_type": "code",
      "execution_count": null,
      "metadata": {
        "id": "seLgDhA9Udm2"
      },
      "outputs": [],
      "source": [
        "# 載入 MNIST 資料並進行影像前處理\n",
        "# PyTorch 官方範例連結：https://github.com/pytorch/examples/blob/main/mnist_forward_forward/main.py#L160C23-L160C43\n",
        "\n",
        "transform = transforms.Compose([transforms.ToTensor()]) # 不進行前處理，但把讀進來的資料轉為 tensors\n",
        "\n",
        "# 進行資料前處理，將數值轉為 -1 到 1 之間\n",
        "# MNIST 影像的數值是 0 ~ 255，且是灰階影像 (只有一個 channel)\n",
        "# 因此 transforms.Normalize 函數內的數字要設為 (0.5,), (0.5,)，第一個數字代表 mean；第二個數字代表 std\n",
        "# 如果是彩色影像的話，transforms.Normalize 函數內的數字要改為 (0.5, 0.5, 0.5), (0.5, 0.5, 0.5)\n",
        "# transform = transforms.Compose(\n",
        "#     [\n",
        "#         transforms.ToTensor(),\n",
        "#         transforms.Normalize((0.5,), (0.5,)), # PyTorch 官方建議 (0.1307,), (0.3081,)\n",
        "#     ]\n",
        "# )\n",
        "\n",
        "# 載入 MNIST 資料\n",
        "# `train=False` 代表載入 test 資料\n",
        "trainset = torchvision.datasets.MNIST(root='./data', train=True, download=True, transform=transform)\n",
        "testset = torchvision.datasets.MNIST(root='./data', train=False, download=True, transform=transform)"
      ]
    },
    {
      "cell_type": "markdown",
      "metadata": {
        "id": "rPxb8QdkHNFj"
      },
      "source": [
        "## 觀察資料"
      ]
    },
    {
      "cell_type": "code",
      "execution_count": null,
      "metadata": {
        "colab": {
          "base_uri": "https://localhost:8080/"
        },
        "id": "7B4s0T5PW7Lh",
        "outputId": "1c901b7a-9384-418a-d64d-c6c70dc5134b"
      },
      "outputs": [
        {
          "name": "stdout",
          "output_type": "stream",
          "text": [
            "MNIST 訓練資料有 60000 筆\n",
            "MNIST 測試資料有 10000 筆\n"
          ]
        }
      ],
      "source": [
        "print(f\"MNIST 訓練資料有 {len(trainset)} 筆\")\n",
        "print(f\"MNIST 測試資料有 {len(testset)} 筆\")"
      ]
    },
    {
      "cell_type": "code",
      "execution_count": null,
      "metadata": {
        "id": "6-m0zrCCHNFj",
        "outputId": "93b8f8d8-718a-4bcd-b63c-26b4775f6776"
      },
      "outputs": [
        {
          "name": "stdout",
          "output_type": "stream",
          "text": [
            "image 的資料格式為: <class 'PIL.Image.Image'>\n"
          ]
        }
      ],
      "source": [
        "# 沒有 ToTensor()\n",
        "tmp = torchvision.datasets.MNIST(root=\"./data\", train=False, download=True)\n",
        "\n",
        "# 取得第一張圖片和標籤\n",
        "image, label = tmp[0]\n",
        "print(f\"image 的資料格式為: {type(image)}\")"
      ]
    },
    {
      "cell_type": "code",
      "execution_count": null,
      "metadata": {
        "id": "2gi-XFlHHNFj",
        "outputId": "6eaa73cf-7c7c-4675-eaac-7a60e8b503a2"
      },
      "outputs": [
        {
          "data": {
            "image/png": "[encoded data removed]",
            "text/plain": [
              "<PIL.Image.Image image mode=L size=28x28 at 0x7F08DC105BB0>"
            ]
          },
          "execution_count": 6,
          "metadata": {},
          "output_type": "execute_result"
        }
      ],
      "source": [
        "# Jupyter Notebook 內建支援顯示 PIL 影像\n",
        "# 所以直接輸入在程式格中執行後會自動顯示原始影像\n",
        "\n",
        "image"
      ]
    },
    {
      "cell_type": "code",
      "execution_count": null,
      "metadata": {
        "id": "gtuYy2cvHNFk",
        "outputId": "d9e7b01b-1a92-42f1-83c5-aa3e071b1246"
      },
      "outputs": [
        {
          "data": {
            "text/plain": [
              "<matplotlib.image.AxesImage at 0x7f07ade4dac0>"
            ]
          },
          "execution_count": 7,
          "metadata": {},
          "output_type": "execute_result"
        },
        {
          "data": {
            "image/png": "[encoded data removed]",
            "text/plain": [
              "<Figure size 432x288 with 1 Axes>"
            ]
          },
          "metadata": {
            "needs_background": "light"
          },
          "output_type": "display_data"
        }
      ],
      "source": [
        "# maplotlib 的 imshow 功能可以顯示 PIL 影像\n",
        "# 但如果是灰階影像的話，它會幫套上 colormap，所以看起來很像彩色影像\n",
        "\n",
        "plt.imshow(image)\n",
        "# plt.imshow(image, cmap=\"gray\") # 若資料是灰階影像，應加上 cmap=\"gray\""
      ]
    },
    {
      "cell_type": "code",
      "execution_count": null,
      "metadata": {
        "id": "asZDvkxploWa",
        "outputId": "12f247d5-4315-4cda-ff83-63277324f93d"
      },
      "outputs": [
        {
          "name": "stdout",
          "output_type": "stream",
          "text": [
            "image 的資料格式為: <class 'torch.Tensor'>\n"
          ]
        }
      ],
      "source": [
        "# 觀察有進行 ToTensor() 後的資料\n",
        "\n",
        "# 取得第一張圖片和標籤\n",
        "image, label = trainset[0]\n",
        "print(f\"image 的資料格式為: {type(image)}\")"
      ]
    },
    {
      "cell_type": "code",
      "execution_count": null,
      "metadata": {
        "colab": {
          "base_uri": "https://localhost:8080/"
        },
        "id": "amxP7s3JnVaY",
        "outputId": "a1e76cf8-0b38-4e01-c1af-d7b2d2b27313"
      },
      "outputs": [
        {
          "data": {
            "text/plain": [
              "torch.Size([1, 28, 28])"
            ]
          },
          "execution_count": 9,
          "metadata": {},
          "output_type": "execute_result"
        }
      ],
      "source": [
        "image.shape"
      ]
    },
    {
      "cell_type": "code",
      "execution_count": null,
      "metadata": {
        "colab": {
          "base_uri": "https://localhost:8080/",
          "height": 448
        },
        "id": "vce_8r-ZmP_R",
        "outputId": "17899770-9103-4596-ed8e-155dcdef7517"
      },
      "outputs": [
        {
          "data": {
            "text/plain": [
              "<matplotlib.image.AxesImage at 0x7f07ade03790>"
            ]
          },
          "execution_count": 10,
          "metadata": {},
          "output_type": "execute_result"
        },
        {
          "data": {
            "image/png": "[encoded data removed]",
            "text/plain": [
              "<Figure size 432x288 with 1 Axes>"
            ]
          },
          "metadata": {
            "needs_background": "light"
          },
          "output_type": "display_data"
        }
      ],
      "source": [
        "plt.imshow(image.squeeze(), cmap=\"gray\")"
      ]
    },
    {
      "cell_type": "markdown",
      "metadata": {
        "id": "xpvs-WySHNFk"
      },
      "source": [
        "## 建立模型\n",
        "- 我們使用 multi-layer perceptron (MLP)"
      ]
    },
    {
      "cell_type": "code",
      "execution_count": null,
      "metadata": {
        "id": "eAG97vIumtRO"
      },
      "outputs": [],
      "source": [
        "# 定義 MLP 模型\n",
        "class MLP(nn.Module):\n",
        "    def __init__(self):\n",
        "        super().__init__() # 繼承 nn.Module 類別的初始化函數\n",
        "        hidden_size1 = 256 # 第一層隱藏層的神經元數量\n",
        "        hidden_size2 = 128 # 第二層隱藏層的神經元數量\n",
        "\n",
        "        self.layer_1 = nn.Linear(28*28, hidden_size1)\n",
        "        self.layer_2 = nn.Linear(256, hidden_size2)\n",
        "        self.cls_layer = nn.Linear(hidden_size2, 10)\n",
        "        self.relu = nn.ReLU()\n",
        "\n",
        "    def forward(self, x):\n",
        "        x = x.view(-1, 28*28) # 將輸入的 x 轉為 28*28 的形狀 (因為 transform.ToTensor() 會把圖片轉為 1*28*28)\n",
        "        x = self.relu(self.layer_1(x))\n",
        "        x = self.relu(self.layer_2(x))\n",
        "        x = self.cls_layer(x)\n",
        "        return x"
      ]
    },
    {
      "cell_type": "markdown",
      "metadata": {
        "id": "VYx7cY61HNFk"
      },
      "source": [
        "## 將資料分裝成 batches\n",
        "- 一般來說，我們會將訓練資料打亂 (`shuffle=True`)，驗證/測試資料不打亂\n",
        "- 我們可以使用 Scikit-learn 的 [`train_test_split`](https://scikit-learn.org/stable/modules/generated/sklearn.model_selection.train_test_split.html) 來進行資料切分"
      ]
    },
    {
      "cell_type": "code",
      "execution_count": null,
      "metadata": {
        "id": "ab4SL5HUHNFk"
      },
      "outputs": [],
      "source": [
        "# 把 validation set 從 training set 切出來 10%\n",
        "# random_state: Pass an int for reproducible output\n",
        "\n",
        "trainset, valset = train_test_split(trainset, test_size=0.1, random_state=42)"
      ]
    },
    {
      "cell_type": "code",
      "execution_count": null,
      "metadata": {
        "id": "srJ4k439HNFk",
        "outputId": "9766cff5-94ed-4f03-9685-fcc68ae280bd"
      },
      "outputs": [
        {
          "name": "stdout",
          "output_type": "stream",
          "text": [
            "MNIST 訓練資料有 54000 筆\n",
            "MNIST 訓練資料有 6000 筆\n",
            "MNIST 測試資料有 10000 筆\n"
          ]
        }
      ],
      "source": [
        "print(f\"MNIST 訓練資料有 {len(trainset)} 筆\")\n",
        "print(f\"MNIST 訓練資料有 {len(valset)} 筆\")\n",
        "print(f\"MNIST 測試資料有 {len(testset)} 筆\")"
      ]
    },
    {
      "cell_type": "code",
      "execution_count": null,
      "metadata": {
        "id": "eFNlLA6Uonga"
      },
      "outputs": [],
      "source": [
        "train_loader = torch.utils.data.DataLoader(trainset, batch_size=64, shuffle=True)\n",
        "val_loader = torch.utils.data.DataLoader(valset, batch_size=64, shuffle=False)\n",
        "test_loader = torch.utils.data.DataLoader(testset, batch_size=64, shuffle=False)"
      ]
    },
    {
      "cell_type": "markdown",
      "metadata": {
        "id": "ZFN6oq8jHNFk"
      },
      "source": [
        "## 取得 DataLoader 中的一個 Batch\n",
        "- 在 PyTorch 中，`DataLoader` 是一個 **可迭代對象 (iterable)**\n",
        "- 我們可以使用 **`iter()`** 和 **`next()`** 來手動取得一個 batch：\n",
        "```python\n",
        "images, labels = next(iter(train_loader))\n",
        "```"
      ]
    },
    {
      "cell_type": "code",
      "execution_count": null,
      "metadata": {
        "colab": {
          "base_uri": "https://localhost:8080/"
        },
        "id": "gKxY2fGCovOp",
        "outputId": "bd310b76-c020-4f09-be25-2861d501d698"
      },
      "outputs": [
        {
          "name": "stdout",
          "output_type": "stream",
          "text": [
            "tensor([[[[0., 0., 0.,  ..., 0., 0., 0.],\n",
            "          [0., 0., 0.,  ..., 0., 0., 0.],\n",
            "          [0., 0., 0.,  ..., 0., 0., 0.],\n",
            "          ...,\n",
            "          [0., 0., 0.,  ..., 0., 0., 0.],\n",
            "          [0., 0., 0.,  ..., 0., 0., 0.],\n",
            "          [0., 0., 0.,  ..., 0., 0., 0.]]],\n",
            "\n",
            "\n",
            "        [[[0., 0., 0.,  ..., 0., 0., 0.],\n",
            "          [0., 0., 0.,  ..., 0., 0., 0.],\n",
            "          [0., 0., 0.,  ..., 0., 0., 0.],\n",
            "          ...,\n",
            "          [0., 0., 0.,  ..., 0., 0., 0.],\n",
            "          [0., 0., 0.,  ..., 0., 0., 0.],\n",
            "          [0., 0., 0.,  ..., 0., 0., 0.]]],\n",
            "\n",
            "\n",
            "        [[[0., 0., 0.,  ..., 0., 0., 0.],\n",
            "          [0., 0., 0.,  ..., 0., 0., 0.],\n",
            "          [0., 0., 0.,  ..., 0., 0., 0.],\n",
            "          ...,\n",
            "          [0., 0., 0.,  ..., 0., 0., 0.],\n",
            "          [0., 0., 0.,  ..., 0., 0., 0.],\n",
            "          [0., 0., 0.,  ..., 0., 0., 0.]]],\n",
            "\n",
            "\n",
            "        ...,\n",
            "\n",
            "\n",
            "        [[[0., 0., 0.,  ..., 0., 0., 0.],\n",
            "          [0., 0., 0.,  ..., 0., 0., 0.],\n",
            "          [0., 0., 0.,  ..., 0., 0., 0.],\n",
            "          ...,\n",
            "          [0., 0., 0.,  ..., 0., 0., 0.],\n",
            "          [0., 0., 0.,  ..., 0., 0., 0.],\n",
            "          [0., 0., 0.,  ..., 0., 0., 0.]]],\n",
            "\n",
            "\n",
            "        [[[0., 0., 0.,  ..., 0., 0., 0.],\n",
            "          [0., 0., 0.,  ..., 0., 0., 0.],\n",
            "          [0., 0., 0.,  ..., 0., 0., 0.],\n",
            "          ...,\n",
            "          [0., 0., 0.,  ..., 0., 0., 0.],\n",
            "          [0., 0., 0.,  ..., 0., 0., 0.],\n",
            "          [0., 0., 0.,  ..., 0., 0., 0.]]],\n",
            "\n",
            "\n",
            "        [[[0., 0., 0.,  ..., 0., 0., 0.],\n",
            "          [0., 0., 0.,  ..., 0., 0., 0.],\n",
            "          [0., 0., 0.,  ..., 0., 0., 0.],\n",
            "          ...,\n",
            "          [0., 0., 0.,  ..., 0., 0., 0.],\n",
            "          [0., 0., 0.,  ..., 0., 0., 0.],\n",
            "          [0., 0., 0.,  ..., 0., 0., 0.]]]])\n",
            "tensor([3, 9, 5, 7, 1, 4, 7, 1, 9, 4, 8, 6, 1, 7, 8, 6, 2, 3, 5, 8, 3, 7, 7, 2,\n",
            "        2, 8, 9, 2, 6, 3, 8, 8, 9, 0, 4, 0, 4, 1, 7, 0, 4, 7, 9, 5, 3, 5, 0, 9,\n",
            "        7, 5, 3, 0, 9, 6, 7, 1, 3, 8, 7, 4, 1, 1, 9, 6])\n",
            "torch.Size([64, 1, 28, 28])\n",
            "torch.Size([64])\n"
          ]
        }
      ],
      "source": [
        "# 觀察 batches 資料\n",
        "\n",
        "train_iter = iter(train_loader)  # 取得迭代器\n",
        "batch_x, batch_y = next(train_iter) # 取出一個 batch\n",
        "print(batch_x)\n",
        "print(batch_y)\n",
        "print(batch_x.shape)\n",
        "print(batch_y.shape)"
      ]
    },
    {
      "cell_type": "code",
      "execution_count": null,
      "metadata": {
        "id": "xzKgX7XbHNFk",
        "outputId": "d86d0c0d-5035-4a6c-af1a-cee915a605ca"
      },
      "outputs": [
        {
          "name": "stdout",
          "output_type": "stream",
          "text": [
            "tensor([5, 1, 8, 9, 2, 6, 7, 6, 3, 7, 7, 3, 0, 8, 1, 8, 8, 1, 8, 1, 8, 6, 1, 6,\n",
            "        6, 3, 5, 8, 8, 0, 3, 7, 8, 7, 7, 9, 2, 2, 4, 2, 1, 8, 9, 4, 4, 8, 0, 0,\n",
            "        1, 7, 9, 8, 8, 1, 9, 1, 4, 5, 2, 0, 3, 1, 6, 5])\n",
            "torch.Size([64])\n"
          ]
        }
      ],
      "source": [
        "# 每次進行 next() 就會取得下一次的迭代\n",
        "\n",
        "_, batch_y = next(train_iter) # 這邊就單純觀察 y 就好\n",
        "print(batch_y)\n",
        "print(batch_y.shape)"
      ]
    },
    {
      "cell_type": "markdown",
      "metadata": {
        "id": "BGyn2wquHNFk"
      },
      "source": [
        "## Training process"
      ]
    },
    {
      "cell_type": "code",
      "execution_count": null,
      "metadata": {
        "id": "nDAzYVwOoKLc"
      },
      "outputs": [],
      "source": [
        "# 設定設備\n",
        "device = torch.device(\"cuda\" if torch.cuda.is_available() else \"cpu\")"
      ]
    },
    {
      "cell_type": "code",
      "execution_count": null,
      "metadata": {
        "id": "nPruQJroHNFk"
      },
      "outputs": [],
      "source": [
        "# 初始化模型、損失函數、optimizer\n",
        "model = MLP().to(device)\n",
        "criterion = nn.CrossEntropyLoss()\n",
        "optimizer = optim.Adam(model.parameters(), lr=0.001)"
      ]
    },
    {
      "cell_type": "code",
      "execution_count": null,
      "metadata": {
        "colab": {
          "base_uri": "https://localhost:8080/",
          "height": 649
        },
        "id": "umIWbv-JoQ7r",
        "outputId": "c59a84ca-f494-41b4-ac3b-6ba99289f9bc"
      },
      "outputs": [
        {
          "name": "stdout",
          "output_type": "stream",
          "text": [
            "Epoch 1/10, Train Loss: 0.3002, Val Loss: 0.1391\n",
            "Epoch 2/10, Train Loss: 0.1160, Val Loss: 0.0904\n",
            "Epoch 3/10, Train Loss: 0.0776, Val Loss: 0.0782\n",
            "Epoch 4/10, Train Loss: 0.0568, Val Loss: 0.0790\n",
            "Epoch 5/10, Train Loss: 0.0426, Val Loss: 0.0727\n",
            "Epoch 6/10, Train Loss: 0.0323, Val Loss: 0.0728\n",
            "Epoch 7/10, Train Loss: 0.0265, Val Loss: 0.0691\n",
            "Epoch 8/10, Train Loss: 0.0210, Val Loss: 0.0934\n",
            "Epoch 9/10, Train Loss: 0.0193, Val Loss: 0.0750\n",
            "Epoch 10/10, Train Loss: 0.0155, Val Loss: 0.0741\n"
          ]
        },
        {
          "data": {
            "image/png": "[encoded data removed]",
            "text/plain": [
              "<Figure size 432x288 with 1 Axes>"
            ]
          },
          "metadata": {
            "needs_background": "light"
          },
          "output_type": "display_data"
        }
      ],
      "source": [
        "# 訓練模型\n",
        "epochs = 10\n",
        "train_losses, val_losses = [], []\n",
        "\n",
        "for epoch in range(epochs):\n",
        "    model.train()\n",
        "    running_loss = 0.0\n",
        "    for images, labels in train_loader:\n",
        "        images, labels = images.to(device), labels.to(device)\n",
        "        optimizer.zero_grad()\n",
        "        outputs = model(images)\n",
        "        loss = criterion(outputs, labels)\n",
        "        loss.backward()\n",
        "        optimizer.step()\n",
        "        running_loss += loss.item()\n",
        "    train_losses.append(running_loss / len(train_loader))\n",
        "\n",
        "    # 驗證模型\n",
        "    model.eval()\n",
        "    val_loss = 0.0\n",
        "    with torch.no_grad():\n",
        "        for images, labels in val_loader:\n",
        "            images, labels = images.to(device), labels.to(device)\n",
        "            outputs = model(images)\n",
        "            loss = criterion(outputs, labels)\n",
        "            val_loss += loss.item()\n",
        "    val_losses.append(val_loss / len(val_loader))\n",
        "\n",
        "    print(f'Epoch {epoch+1}/{epochs}, Train Loss: {train_losses[-1]:.4f}, Val Loss: {val_losses[-1]:.4f}')\n",
        "\n",
        "# 繪製 loss 的歷史記錄圖\n",
        "plt.plot(range(1, epochs+1), train_losses, label='Train Loss')\n",
        "plt.plot(range(1, epochs+1), val_losses, label='Validation Loss')\n",
        "plt.xlabel('Epochs')\n",
        "plt.ylabel('Loss')\n",
        "plt.legend()\n",
        "plt.title('Training and Validation Loss')\n",
        "plt.show()"
      ]
    },
    {
      "cell_type": "code",
      "execution_count": null,
      "metadata": {
        "id": "VKMHOh4yHNFl",
        "outputId": "bae99611-1af2-4b90-cce4-d9184d413291"
      },
      "outputs": [
        {
          "name": "stdout",
          "output_type": "stream",
          "text": [
            "torch.Size([48, 10])\n",
            "tensor([5, 3, 1, 6, 2, 8, 2, 5, 3, 6, 0, 1, 4, 3, 1, 1, 6, 1, 9, 9, 4, 5, 1, 1,\n",
            "        7, 5, 0, 4, 4, 6, 8, 4, 8, 7, 0, 1, 5, 3, 5, 3, 7, 2, 1, 5, 9, 7, 2, 5],\n",
            "       device='cuda:0')\n",
            "torch.Size([48])\n"
          ]
        }
      ],
      "source": [
        "print(outputs.shape)\n",
        "print(outputs.argmax(dim=1))\n",
        "print(outputs.argmax(dim=1).shape)"
      ]
    },
    {
      "cell_type": "code",
      "execution_count": null,
      "metadata": {
        "id": "ITkT6nntHNFl"
      },
      "outputs": [],
      "source": [
        "model.eval()\n",
        "predictions = []\n",
        "test_loss = 0.0 # 在 test 的時候其實不用算 loss，因為通常我們沒有 test set 的標準答案\n",
        "test_losses = []\n",
        "\n",
        "with torch.no_grad():\n",
        "    for images, labels in test_loader:\n",
        "        images, labels = images.to(device), labels.to(device)\n",
        "        outputs = model(images)\n",
        "        tmp_pred = outputs.argmax(dim=1) # tmp_pred 的型態是 tensor\n",
        "        predictions.extend(tmp_pred.tolist()) # 如果用 append 的話會變成 [[1, 2, 3], [4, 5, 6]]\n",
        "\n",
        "        loss = criterion(outputs, labels)\n",
        "        test_loss += loss.item()\n",
        "test_losses.append(test_loss / len(test_loader))"
      ]
    },
    {
      "cell_type": "code",
      "execution_count": null,
      "metadata": {
        "id": "u4kANEWqHNFl",
        "outputId": "ce2ab709-ad54-490b-cba9-c8b7081cb67f"
      },
      "outputs": [
        {
          "data": {
            "text/plain": [
              "True"
            ]
          },
          "execution_count": 22,
          "metadata": {},
          "output_type": "execute_result"
        }
      ],
      "source": [
        "# 檢查一下最後 predictions 的數量是否跟 testset 的資料筆數一致\n",
        "\n",
        "len(predictions) == len(testset)"
      ]
    },
    {
      "cell_type": "markdown",
      "metadata": {
        "id": "qnOaa0agHNFl"
      },
      "source": [
        "## 計算分數\n",
        "- 我們可以使用 Scikit-learn 的 [`accuracy_score`](https://scikit-learn.org/stable/modules/generated/sklearn.metrics.accuracy_score.html) 來幫我們計算準確率 (Accuracy)：\n",
        "```python\n",
        "sklearn.metrics.accuracy_score(y_true, y_pred, *, normalize=True, sample_weight=None)\n",
        "```"
      ]
    },
    {
      "cell_type": "code",
      "execution_count": null,
      "metadata": {
        "id": "FuqoiHveHNFl"
      },
      "outputs": [],
      "source": [
        "# 把 testset 中的正確答案取出來\n",
        "\n",
        "test_labels = [example[1] for example in testset]"
      ]
    },
    {
      "cell_type": "code",
      "execution_count": null,
      "metadata": {
        "id": "Rj-yxzVaHNFl",
        "outputId": "f37a0822-f292-4b60-beb9-b1db5d2f22c6"
      },
      "outputs": [
        {
          "data": {
            "text/plain": [
              "0.9776"
            ]
          },
          "execution_count": 24,
          "metadata": {},
          "output_type": "execute_result"
        }
      ],
      "source": [
        "accuracy_score(test_labels, predictions)"
      ]
    }
  ],
  "metadata": {
    "accelerator": "GPU",
    "colab": {
      "gpuType": "T4",
      "provenance": [],
      "include_colab_link": true
    },
    "kernelspec": {
      "display_name": "base",
      "language": "python",
      "name": "base"
    },
    "language_info": {
      "codemirror_mode": {
        "name": "ipython",
        "version": 3
      },
      "file_extension": ".py",
      "mimetype": "text/x-python",
      "name": "python",
      "nbconvert_exporter": "python",
      "pygments_lexer": "ipython3",
      "version": "3.8.5"
    }
  },
  "nbformat": 4,
  "nbformat_minor": 0
}